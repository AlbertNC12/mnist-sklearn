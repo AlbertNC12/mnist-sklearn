{
 "cells": [
  {
   "cell_type": "code",
   "id": "initial_id",
   "metadata": {
    "collapsed": true,
    "ExecuteTime": {
     "end_time": "2025-09-07T14:40:16.240981Z",
     "start_time": "2025-09-07T14:40:16.226935Z"
    }
   },
   "source": [
    "#OS\n",
    "import os \n",
    "#Data handling\n",
    "import numpy as np\n",
    "#visualzation\n",
    "import matplotlib.pyplot as plt\n",
    "#dataset\n",
    "import pandas as pd\n",
    "from sklearn.datasets import fetch_openml\n",
    "# Model selection and evaluation\n",
    "from sklearn.model_selection import GridSearchCV\n",
    "from sklearn.model_selection import cross_val_score\n",
    "from sklearn.model_selection import cross_val_predict\n",
    "from sklearn.metrics import accuracy_score,precision_score,recall_score\n",
    "from sklearn.metrics import confusion_matrix\n",
    "\n",
    "#classification\n",
    "from sklearn.neighbors import KNeighborsClassifier\n",
    "#Model persistence\n",
    "from joblib import dump,load"
   ],
   "outputs": [],
   "execution_count": 2
  },
  {
   "metadata": {},
   "cell_type": "markdown",
   "source": "Data loading",
   "id": "c1b56a9482222771"
  },
  {
   "metadata": {
    "ExecuteTime": {
     "end_time": "2025-09-07T14:45:27.660975Z",
     "start_time": "2025-09-07T14:45:22.864381Z"
    }
   },
   "cell_type": "code",
   "source": [
    "minst = fetch_openml(\"mnist_784\", version=1, as_frame=False)\n",
    "x,y =minst.data,minst.target\n",
    "\n",
    "#data visual\n",
    "some_data = x[0]\n",
    "plt.title(y[0])\n",
    "plt.axis(False)\n",
    "plt.imshow(some_data.reshape(28,28), cmap='Greys')#5\n",
    "plt.show()\n",
    "y = np.uint8(y)#Change the data int\n",
    "X_train,x_test,Y_train,y_test=x[:60000],x[60000:],y[:60000],y[60000:]#Prep the data"
   ],
   "id": "61aa552db986b015",
   "outputs": [
    {
     "data": {
      "text/plain": [
       "<Figure size 640x480 with 1 Axes>"
      ],
      "image/png": "[encoded data removed]"
     },
     "metadata": {},
     "output_type": "display_data"
    }
   ],
   "execution_count": 5
  },
  {
   "metadata": {},
   "cell_type": "markdown",
   "source": "Model_train",
   "id": "9d76cdf51c80ba2e"
  },
  {
   "metadata": {
    "ExecuteTime": {
     "end_time": "2025-09-07T14:45:29.429520Z",
     "start_time": "2025-09-07T14:45:29.415517Z"
    }
   },
   "cell_type": "code",
   "source": [
    "def score(model_score,X_test,y_test):\n",
    "    model = model_score.predict(X_test)\n",
    "    print(\"accuracy\",accuracy_score(model,y_test))\n",
    "    print(\"precision\",precision_score(model,y_test,average='macro'))\n",
    "    print(\"recall_score\",recall_score(model,y_test,average='macro'))\n",
    "def error(model,y_train):\n",
    "    conf =confusion_matrix(y_train,model)\n",
    "    print(conf)\n",
    "    plt.matshow(conf,cmap=\"binary\")#The model is diagonal\n",
    "\n",
    "    \n",
    "    \n",
    "    "
   ],
   "id": "dd5486ea8b9d4a9a",
   "outputs": [],
   "execution_count": 6
  },
  {
   "metadata": {
    "ExecuteTime": {
     "end_time": "2025-09-07T15:24:12.558329Z",
     "start_time": "2025-09-07T15:17:16.835641Z"
    }
   },
   "cell_type": "code",
   "source": [
    "KNC =KNeighborsClassifier()\n",
    "KNC.fit(X_train,Y_train)\n",
    "param_grid=[{\"n_neighbors\":[3,45],\"weights\":['uniform', 'distance']}]\n",
    "GR=GridSearchCV(KNC,param_grid,cv=5)#grid search\n",
    "GR.fit(X_train,Y_train)\n",
    "best_model =GR.best_estimator_#using the best model\n",
    "model_score=cross_val_score(best_model,X_train,Y_train,cv=3)#score\n",
    "model_predict=cross_val_predict(best_model,X_train,Y_train,cv=3)#predict\n"
   ],
   "id": "de94b3d3a96ec751",
   "outputs": [],
   "execution_count": 24
  },
  {
   "metadata": {
    "ExecuteTime": {
     "end_time": "2025-09-07T15:25:50.757955Z",
     "start_time": "2025-09-07T15:24:12.566331Z"
    }
   },
   "cell_type": "code",
   "source": [
    "score(KNC,X_train,Y_train)\n",
    "print(model_score)\n"
   ],
   "id": "568763a0bf3bd6e0",
   "outputs": [
    {
     "name": "stdout",
     "output_type": "stream",
     "text": [
      "0.9819166666666667\n",
      "0.9816465482044595\n",
      "0.982207665120935\n",
      "[0.9704 0.9689 0.9687]\n"
     ]
    }
   ],
   "execution_count": 25
  },
  {
   "metadata": {
    "ExecuteTime": {
     "end_time": "2025-09-07T15:25:51.187090Z",
     "start_time": "2025-09-07T15:25:50.760956Z"
    }
   },
   "cell_type": "code",
   "source": "error(model_predict,Y_train)",
   "id": "5b71c3d332c82393",
   "outputs": [
    {
     "name": "stdout",
     "output_type": "stream",
     "text": [
      "[[5880    3    4    0    0    4   20    1    6    5]\n",
      " [   1 6703   10    2    3    1    3   11    4    4]\n",
      " [  42   47 5709   18   10    4   10   89   20    9]\n",
      " [   9   13   32 5899    1   68    4   40   41   24]\n",
      " [   3   51    1    1 5632    1   14   12    3  124]\n",
      " [  16    7    5   75    4 5205   60    7   17   25]\n",
      " [  19   10    1    1    6   20 5857    0    4    0]\n",
      " [   3   59   13    3   19    3    0 6093    4   68]\n",
      " [  19   71   11   70   29   95   28   14 5454   60]\n",
      " [  15   10    4   33   47   13    3   84   12 5728]]\n"
     ]
    },
    {
     "data": {
      "text/plain": [
       "<Figure size 480x480 with 1 Axes>"
      ],
      "image/png": "[encoded data removed]"
     },
     "metadata": {},
     "output_type": "display_data"
    }
   ],
   "execution_count": 26
  },
  {
   "metadata": {},
   "cell_type": "markdown",
   "source": "#Model output",
   "id": "c84ea030deb7f968"
  },
  {
   "metadata": {
    "ExecuteTime": {
     "end_time": "2025-09-07T15:25:52.405968Z",
     "start_time": "2025-09-07T15:25:51.190092Z"
    }
   },
   "cell_type": "code",
   "source": [
    "os.makedirs(\"models\", exist_ok=True)\n",
    "dump(KNC,\"models/KNCmodel.pkl\")"
   ],
   "id": "972725416c6907b1",
   "outputs": [
    {
     "data": {
      "text/plain": [
       "['models/KNC_model.pkl']"
      ]
     },
     "execution_count": 27,
     "metadata": {},
     "output_type": "execute_result"
    }
   ],
   "execution_count": 27
  }
 ],
 "metadata": {
  "kernelspec": {
   "display_name": "Python 3",
   "language": "python",
   "name": "python3"
  },
  "language_info": {
   "codemirror_mode": {
    "name": "ipython",
    "version": 2
   },
   "file_extension": ".py",
   "mimetype": "text/x-python",
   "name": "python",
   "nbconvert_exporter": "python",
   "pygments_lexer": "ipython2",
   "version": "2.7.6"
  }
 },
 "nbformat": 4,
 "nbformat_minor": 5
}
