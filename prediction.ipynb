{
 "cells": [
  {
   "cell_type": "code",
   "id": "initial_id",
   "metadata": {
    "collapsed": true,
    "ExecuteTime": {
     "end_time": "2025-09-07T15:29:36.330711Z",
     "start_time": "2025-09-07T15:29:28.550419Z"
    }
   },
   "source": [
    "import numpy as np\n",
    "from joblib import dump,load\n",
    "import os\n",
    "print(os.getcwd())\n",
    "import cv2\n",
    "import matplotlib.pyplot as plt\n",
    "from sklearn.neighbors import KNeighborsClassifier\n",
    "model_path = \"models/KNC_model.pkl\"\n",
    "\n",
    "KNC=load(model_path)\n",
    "\n",
    "\n",
    "x= input(\"where is the file location?\")\n",
    "img=cv2.imread(x,cv2.IMREAD_GRAYSCALE)\n",
    "try:\n",
    "    if(img==None):\n",
    "        print(\"No image\")\n",
    "except:\n",
    "        img =cv2.bitwise_not(img)\n",
    "        img = cv2.resize(img,(28,28),interpolation=cv2.INTER_AREA)\n",
    "        plt.imshow(img,cmap='gray')\n",
    "        print(\"Prediction: \",KNC.predict(img.reshape(1,-1)))"
   ],
   "outputs": [
    {
     "name": "stdout",
     "output_type": "stream",
     "text": [
      "C:\\Users\\ALBERT\\Documents\\minst1\n",
      "Prediction:  [4]\n"
     ]
    },
    {
     "data": {
      "text/plain": [
       "<Figure size 640x480 with 1 Axes>"
      ],
      "image/png": "[encoded data removed]"
     },
     "metadata": {},
     "output_type": "display_data"
    }
   ],
   "execution_count": 11
  }
 ],
 "metadata": {
  "kernelspec": {
   "display_name": "Python 3",
   "language": "python",
   "name": "python3"
  },
  "language_info": {
   "codemirror_mode": {
    "name": "ipython",
    "version": 2
   },
   "file_extension": ".py",
   "mimetype": "text/x-python",
   "name": "python",
   "nbconvert_exporter": "python",
   "pygments_lexer": "ipython2",
   "version": "2.7.6"
  }
 },
 "nbformat": 4,
 "nbformat_minor": 5
}
